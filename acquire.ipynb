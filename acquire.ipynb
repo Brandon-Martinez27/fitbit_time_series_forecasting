{
 "cells": [
  {
   "cell_type": "markdown",
   "metadata": {},
   "source": [
    "# Acquisition"
   ]
  },
  {
   "cell_type": "code",
   "execution_count": 36,
   "metadata": {},
   "outputs": [],
   "source": [
    "import pandas as pd\n",
    "import numpy as np\n",
    "import matplotlib.pyplot as plt\n",
    "import seaborn as sns\n",
    "\n",
    "import warnings\n",
    "warnings.filterwarnings(\"ignore\")"
   ]
  },
  {
   "cell_type": "markdown",
   "metadata": {},
   "source": [
    "#### Read data: CSV --> Pandas DataFrame"
   ]
  },
  {
   "cell_type": "code",
   "execution_count": 37,
   "metadata": {
    "scrolled": true
   },
   "outputs": [
    {
     "data": {
      "text/html": [
       "<div>\n",
       "<style scoped>\n",
       "    .dataframe tbody tr th:only-of-type {\n",
       "        vertical-align: middle;\n",
       "    }\n",
       "\n",
       "    .dataframe tbody tr th {\n",
       "        vertical-align: top;\n",
       "    }\n",
       "\n",
       "    .dataframe thead th {\n",
       "        text-align: right;\n",
       "    }\n",
       "</style>\n",
       "<table border=\"1\" class=\"dataframe\">\n",
       "  <thead>\n",
       "    <tr style=\"text-align: right;\">\n",
       "      <th></th>\n",
       "      <th>Date</th>\n",
       "      <th>Calories Burned</th>\n",
       "      <th>Steps</th>\n",
       "      <th>Distance</th>\n",
       "      <th>Floors</th>\n",
       "      <th>Minutes Sedentary</th>\n",
       "      <th>Minutes Lightly Active</th>\n",
       "      <th>Minutes Fairly Active</th>\n",
       "      <th>Minutes Very Active</th>\n",
       "      <th>Activity Calories</th>\n",
       "    </tr>\n",
       "  </thead>\n",
       "  <tbody>\n",
       "    <tr>\n",
       "      <th>0</th>\n",
       "      <td>2018-04-26</td>\n",
       "      <td>2,635</td>\n",
       "      <td>2,931</td>\n",
       "      <td>1.38</td>\n",
       "      <td>2.0</td>\n",
       "      <td>1,347</td>\n",
       "      <td>93.0</td>\n",
       "      <td>0.0</td>\n",
       "      <td>0.0</td>\n",
       "      <td>566</td>\n",
       "    </tr>\n",
       "    <tr>\n",
       "      <th>1</th>\n",
       "      <td>2018-04-27</td>\n",
       "      <td>3,649</td>\n",
       "      <td>9,971</td>\n",
       "      <td>4.70</td>\n",
       "      <td>19.0</td>\n",
       "      <td>1,158</td>\n",
       "      <td>219.0</td>\n",
       "      <td>46.0</td>\n",
       "      <td>17.0</td>\n",
       "      <td>1,752</td>\n",
       "    </tr>\n",
       "    <tr>\n",
       "      <th>2</th>\n",
       "      <td>2018-04-28</td>\n",
       "      <td>3,379</td>\n",
       "      <td>3,521</td>\n",
       "      <td>1.66</td>\n",
       "      <td>2.0</td>\n",
       "      <td>702</td>\n",
       "      <td>155.0</td>\n",
       "      <td>22.0</td>\n",
       "      <td>11.0</td>\n",
       "      <td>1,124</td>\n",
       "    </tr>\n",
       "  </tbody>\n",
       "</table>\n",
       "</div>"
      ],
      "text/plain": [
       "         Date Calories Burned  Steps  Distance  Floors Minutes Sedentary  \\\n",
       "0  2018-04-26           2,635  2,931      1.38     2.0             1,347   \n",
       "1  2018-04-27           3,649  9,971      4.70    19.0             1,158   \n",
       "2  2018-04-28           3,379  3,521      1.66     2.0               702   \n",
       "\n",
       "   Minutes Lightly Active  Minutes Fairly Active  Minutes Very Active  \\\n",
       "0                    93.0                    0.0                  0.0   \n",
       "1                   219.0                   46.0                 17.0   \n",
       "2                   155.0                   22.0                 11.0   \n",
       "\n",
       "  Activity Calories  \n",
       "0               566  \n",
       "1             1,752  \n",
       "2             1,124  "
      ]
     },
     "execution_count": 37,
     "metadata": {},
     "output_type": "execute_result"
    }
   ],
   "source": [
    "df = pd.read_csv('fitbit/fitbit_time_series.csv')\n",
    "df.head(3)"
   ]
  },
  {
   "cell_type": "markdown",
   "metadata": {},
   "source": [
    "#### Initial Data Summary"
   ]
  },
  {
   "cell_type": "code",
   "execution_count": 38,
   "metadata": {},
   "outputs": [
    {
     "name": "stdout",
     "output_type": "stream",
     "text": [
      "<class 'pandas.core.frame.DataFrame'>\n",
      "RangeIndex: 247 entries, 0 to 246\n",
      "Data columns (total 10 columns):\n",
      " #   Column                  Non-Null Count  Dtype  \n",
      "---  ------                  --------------  -----  \n",
      " 0   Date                    247 non-null    object \n",
      " 1   Calories Burned         225 non-null    object \n",
      " 2   Steps                   225 non-null    object \n",
      " 3   Distance                225 non-null    float64\n",
      " 4   Floors                  225 non-null    float64\n",
      " 5   Minutes Sedentary       225 non-null    object \n",
      " 6   Minutes Lightly Active  225 non-null    float64\n",
      " 7   Minutes Fairly Active   225 non-null    float64\n",
      " 8   Minutes Very Active     225 non-null    float64\n",
      " 9   Activity Calories       225 non-null    object \n",
      "dtypes: float64(5), object(5)\n",
      "memory usage: 19.4+ KB\n"
     ]
    }
   ],
   "source": [
    "df.info()"
   ]
  },
  {
   "cell_type": "markdown",
   "metadata": {},
   "source": [
    "### Acquisition Takeaways\n",
    "- Date needs to be converted to datetime type\n",
    "- Missing values need to be dropped. These are the last two weeks that need to be predicted by a model.\n",
    "- Columns/Features need to be lowercases and spaces replaces by underscore for best practice and easy reading/writing.\n",
    "- Data types need to be corrected since all variables seem to be numberical so integer or float types."
   ]
  },
  {
   "cell_type": "markdown",
   "metadata": {},
   "source": [
    "---\n",
    "# Preparation\n",
    "- Account for the details in Acquisition"
   ]
  },
  {
   "cell_type": "markdown",
   "metadata": {},
   "source": [
    "#### Data Cleaning"
   ]
  },
  {
   "cell_type": "code",
   "execution_count": 39,
   "metadata": {},
   "outputs": [],
   "source": [
    "# drop last 22 days since we will be predicting them\n",
    "df = df[:-22]"
   ]
  },
  {
   "cell_type": "code",
   "execution_count": 40,
   "metadata": {},
   "outputs": [],
   "source": [
    "# lowercase the features, use a '_' to replace whitespace\n",
    "df.columns = df.columns.str.lower().str.replace(' ', '_')"
   ]
  },
  {
   "cell_type": "code",
   "execution_count": 41,
   "metadata": {},
   "outputs": [],
   "source": [
    "# change 'date' --> datetime type\n",
    "df.date = pd.to_datetime(df.date)"
   ]
  },
  {
   "cell_type": "code",
   "execution_count": 42,
   "metadata": {},
   "outputs": [],
   "source": [
    "# change the index --> date, sort by date\n",
    "df.set_index(df.date, inplace=True)\n",
    "df = df.sort_index()"
   ]
  },
  {
   "cell_type": "code",
   "execution_count": 43,
   "metadata": {},
   "outputs": [],
   "source": [
    "# drop remaining date column\n",
    "df.drop(columns='date', inplace=True)"
   ]
  },
  {
   "cell_type": "code",
   "execution_count": 44,
   "metadata": {},
   "outputs": [],
   "source": [
    "# change the commas in 'calories_burned, steps, \n",
    "# minutes_sedentary, activity_calories' --> '_'\n",
    "# change columns to int type\n",
    "df['calories_burned'] = df['calories_burned'].str.replace(',', '_').astype('int')\n",
    "df['steps'] = df['steps'].str.replace(',', '_').astype('int')\n",
    "df['minutes_sedentary'] = df['minutes_sedentary'].str.replace(',', '_').astype('int')\n",
    "df['activity_calories'] = df['activity_calories'].str.replace(',', '_').astype('int')"
   ]
  },
  {
   "cell_type": "markdown",
   "metadata": {},
   "source": [
    "#### Prepared Data Summary"
   ]
  },
  {
   "cell_type": "code",
   "execution_count": 45,
   "metadata": {},
   "outputs": [
    {
     "name": "stdout",
     "output_type": "stream",
     "text": [
      "<class 'pandas.core.frame.DataFrame'>\n",
      "RangeIndex: 225 entries, 0 to 224\n",
      "Data columns (total 9 columns):\n",
      " #   Column                  Non-Null Count  Dtype  \n",
      "---  ------                  --------------  -----  \n",
      " 0   calories_burned         225 non-null    int64  \n",
      " 1   steps                   225 non-null    int64  \n",
      " 2   distance                225 non-null    float64\n",
      " 3   floors                  225 non-null    float64\n",
      " 4   minutes_sedentary       225 non-null    int64  \n",
      " 5   minutes_lightly_active  225 non-null    float64\n",
      " 6   minutes_fairly_active   225 non-null    float64\n",
      " 7   minutes_very_active     225 non-null    float64\n",
      " 8   activity_calories       225 non-null    int64  \n",
      "dtypes: float64(5), int64(4)\n",
      "memory usage: 15.9 KB\n"
     ]
    }
   ],
   "source": [
    "df.info()"
   ]
  },
  {
   "cell_type": "markdown",
   "metadata": {},
   "source": [
    "#### Prepared Data peek"
   ]
  },
  {
   "cell_type": "code",
   "execution_count": 46,
   "metadata": {
    "scrolled": false
   },
   "outputs": [
    {
     "data": {
      "text/html": [
       "<div>\n",
       "<style scoped>\n",
       "    .dataframe tbody tr th:only-of-type {\n",
       "        vertical-align: middle;\n",
       "    }\n",
       "\n",
       "    .dataframe tbody tr th {\n",
       "        vertical-align: top;\n",
       "    }\n",
       "\n",
       "    .dataframe thead th {\n",
       "        text-align: right;\n",
       "    }\n",
       "</style>\n",
       "<table border=\"1\" class=\"dataframe\">\n",
       "  <thead>\n",
       "    <tr style=\"text-align: right;\">\n",
       "      <th></th>\n",
       "      <th>calories_burned</th>\n",
       "      <th>steps</th>\n",
       "      <th>distance</th>\n",
       "      <th>floors</th>\n",
       "      <th>minutes_sedentary</th>\n",
       "      <th>minutes_lightly_active</th>\n",
       "      <th>minutes_fairly_active</th>\n",
       "      <th>minutes_very_active</th>\n",
       "      <th>activity_calories</th>\n",
       "    </tr>\n",
       "  </thead>\n",
       "  <tbody>\n",
       "    <tr>\n",
       "      <th>0</th>\n",
       "      <td>2635</td>\n",
       "      <td>2931</td>\n",
       "      <td>1.38</td>\n",
       "      <td>2.0</td>\n",
       "      <td>1347</td>\n",
       "      <td>93.0</td>\n",
       "      <td>0.0</td>\n",
       "      <td>0.0</td>\n",
       "      <td>566</td>\n",
       "    </tr>\n",
       "    <tr>\n",
       "      <th>1</th>\n",
       "      <td>3649</td>\n",
       "      <td>9971</td>\n",
       "      <td>4.70</td>\n",
       "      <td>19.0</td>\n",
       "      <td>1158</td>\n",
       "      <td>219.0</td>\n",
       "      <td>46.0</td>\n",
       "      <td>17.0</td>\n",
       "      <td>1752</td>\n",
       "    </tr>\n",
       "    <tr>\n",
       "      <th>2</th>\n",
       "      <td>3379</td>\n",
       "      <td>3521</td>\n",
       "      <td>1.66</td>\n",
       "      <td>2.0</td>\n",
       "      <td>702</td>\n",
       "      <td>155.0</td>\n",
       "      <td>22.0</td>\n",
       "      <td>11.0</td>\n",
       "      <td>1124</td>\n",
       "    </tr>\n",
       "  </tbody>\n",
       "</table>\n",
       "</div>"
      ],
      "text/plain": [
       "   calories_burned  steps  distance  floors  minutes_sedentary  \\\n",
       "0             2635   2931      1.38     2.0               1347   \n",
       "1             3649   9971      4.70    19.0               1158   \n",
       "2             3379   3521      1.66     2.0                702   \n",
       "\n",
       "   minutes_lightly_active  minutes_fairly_active  minutes_very_active  \\\n",
       "0                    93.0                    0.0                  0.0   \n",
       "1                   219.0                   46.0                 17.0   \n",
       "2                   155.0                   22.0                 11.0   \n",
       "\n",
       "   activity_calories  \n",
       "0                566  \n",
       "1               1752  \n",
       "2               1124  "
      ]
     },
     "execution_count": 46,
     "metadata": {},
     "output_type": "execute_result"
    }
   ],
   "source": [
    "df.head(3)"
   ]
  },
  {
   "cell_type": "markdown",
   "metadata": {},
   "source": [
    "#### Distribution of each Variable\n",
    "- Nearly Normal: \n",
    "    - `calories_burned` \n",
    "    - `minutes_sedentary`\n",
    "    - `minutes_lightly_active`\n",
    "    - `activity_calories`\n",
    "- Skewed Right:\n",
    "    - `steps`\n",
    "    - `distance`\n",
    "    - `floors`\n",
    "    - `minutes_fairly_active`\n",
    "    - `minutes_very_active`"
   ]
  },
  {
   "cell_type": "code",
   "execution_count": 66,
   "metadata": {},
   "outputs": [
    {
     "data": {
      "image/png": "[encoded data removed]",
      "text/plain": [
       "<Figure size 432x288 with 9 Axes>"
      ]
     },
     "metadata": {
      "needs_background": "light"
     },
     "output_type": "display_data"
    }
   ],
   "source": [
    "count=0\n",
    "for i in df:\n",
    "    count+=1\n",
    "    plt.subplot(3, 3, count)\n",
    "    sns.histplot(data=df, x=i, kde=True)\n",
    "plt.tight_layout()"
   ]
  },
  {
   "cell_type": "markdown",
   "metadata": {},
   "source": [
    "### Preparation Takeaways\n",
    "- All variables are continous\n",
    "- We have 9 variables total\n",
    "- There are 225 observations\n",
    "- Each observation contain the metrics for one day"
   ]
  },
  {
   "cell_type": "markdown",
   "metadata": {},
   "source": [
    "---\n",
    "## Data Preprocessing\n",
    "- Prepare for exploration\n",
    "- Split the data into train, validate and test\n",
    "- create `month` and `weekday` features"
   ]
  },
  {
   "cell_type": "code",
   "execution_count": null,
   "metadata": {},
   "outputs": [],
   "source": []
  }
 ],
 "metadata": {
  "kernelspec": {
   "display_name": "Python 3",
   "language": "python",
   "name": "python3"
  },
  "language_info": {
   "codemirror_mode": {
    "name": "ipython",
    "version": 3
   },
   "file_extension": ".py",
   "mimetype": "text/x-python",
   "name": "python",
   "nbconvert_exporter": "python",
   "pygments_lexer": "ipython3",
   "version": "3.7.6"
  }
 },
 "nbformat": 4,
 "nbformat_minor": 4
}
